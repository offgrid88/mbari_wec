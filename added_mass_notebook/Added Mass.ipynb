{
 "cells": [
  {
   "cell_type": "code",
   "execution_count": null,
   "id": "6a25e4f5",
   "metadata": {},
   "outputs": [],
   "source": [
    "%matplotlib notebook"
   ]
  },
  {
   "cell_type": "code",
   "execution_count": null,
   "id": "79c97a0f",
   "metadata": {},
   "outputs": [],
   "source": [
    "import json\n",
    "import pathlib\n",
    "\n",
    "import matplotlib.pyplot as plt\n",
    "import numpy as np\n",
    "import quaternion as qt\n",
    "import scipy as sp"
   ]
  },
  {
   "cell_type": "markdown",
   "id": "67646de9",
   "metadata": {},
   "source": [
    "---"
   ]
  },
  {
   "cell_type": "markdown",
   "id": "ab7fec47",
   "metadata": {},
   "source": [
    "## Load JSONs to Memory"
   ]
  },
  {
   "cell_type": "code",
   "execution_count": null,
   "id": "229d9da0",
   "metadata": {},
   "outputs": [],
   "source": [
    "logfile_path = pathlib.Path() / \"pose.jsons\""
   ]
  },
  {
   "cell_type": "code",
   "execution_count": null,
   "id": "ff10e9f5",
   "metadata": {},
   "outputs": [],
   "source": [
    "jsons = []\n",
    "data = []\n",
    "with open(logfile_path) as f:\n",
    "    for line in f:\n",
    "        jsons.append(line)\n",
    "for single_json in jsons:\n",
    "    data.append(json.loads(single_json))\n",
    "\n",
    "# At this point, `data` is a list of dictionaries, each containing the poses of all the boxes at a given timestamp\n",
    "# in a JSON-like format."
   ]
  },
  {
   "cell_type": "markdown",
   "id": "79cae453",
   "metadata": {},
   "source": [
    "---"
   ]
  },
  {
   "cell_type": "markdown",
   "id": "2e4e411d",
   "metadata": {},
   "source": [
    "## Convert Raw Data to Box Pose Data"
   ]
  },
  {
   "cell_type": "code",
   "execution_count": null,
   "id": "d8a4f1b0",
   "metadata": {},
   "outputs": [],
   "source": [
    "def stamp_to_time(stamp):\n",
    "    # Parse JSON time stamps to a numerical value.\n",
    "    t = 0\n",
    "    if 'sec' in stamp:\n",
    "        t += int(stamp['sec'])\n",
    "    if 'nsec' in stamp:\n",
    "        t += 1e-9 * stamp['nsec']\n",
    "    return t"
   ]
  },
  {
   "cell_type": "code",
   "execution_count": null,
   "id": "7945922f",
   "metadata": {},
   "outputs": [],
   "source": [
    "def position_to_p(position):\n",
    "    # Parse JSON position values and return as an array.\n",
    "    p = np.zeros(3)\n",
    "    if 'x' in position:\n",
    "        p[0] = position['x']\n",
    "    if 'y' in position:\n",
    "        p[1] = position['y']\n",
    "    if 'z' in position:\n",
    "        p[2] = position['z']\n",
    "    return p"
   ]
  },
  {
   "cell_type": "code",
   "execution_count": null,
   "id": "d10036e2",
   "metadata": {},
   "outputs": [],
   "source": [
    "def orientation_to_q(orientation):\n",
    "    # Parse JSON quaternion values and return as an array.\n",
    "    q_arr = np.zeros(4)\n",
    "    if 'w' in orientation:\n",
    "        q_arr[0] = orientation['w']\n",
    "    if 'x' in orientation:\n",
    "        q_arr[1] = orientation['x']\n",
    "    if 'y' in orientation:\n",
    "        q_arr[2] = orientation['y']\n",
    "    if 'z' in orientation:\n",
    "        q_arr[3] = orientation['z']\n",
    "    return qt.from_float_array(q_arr)"
   ]
  },
  {
   "cell_type": "code",
   "execution_count": null,
   "id": "dac0dd74",
   "metadata": {},
   "outputs": [],
   "source": [
    "# Names of the boxes present in the JSON file.\n",
    "names = [\n",
    "    'box_xx',\n",
    "    'box_xy',\n",
    "    'box_xz',\n",
    "    'box_xp',\n",
    "    'box_xq',\n",
    "    'box_xr',\n",
    "    'box_yy',\n",
    "    'box_yz',\n",
    "    'box_yp',\n",
    "    'box_yq',\n",
    "    'box_yr',\n",
    "    'box_zz',\n",
    "    'box_zp',\n",
    "    'box_zq',\n",
    "    'box_zr',\n",
    "    'box_pp',\n",
    "    'box_pq',\n",
    "    'box_pr',\n",
    "    'box_qq',\n",
    "    'box_qr',\n",
    "    'box_rr',\n",
    "]"
   ]
  },
  {
   "cell_type": "code",
   "execution_count": null,
   "id": "242a9e51",
   "metadata": {},
   "outputs": [],
   "source": [
    "# Custom `dtype` used to store poses. Each pose will contain a timestamp 't' (in seconds), a position 'p' (in m),\n",
    "# and a quaternion representing orientation 'q'.\n",
    "pose_dtype = np.dtype([('t', np.float64), ('p', np.float64, 3), ('q', qt.quaternion)])"
   ]
  },
  {
   "cell_type": "code",
   "execution_count": null,
   "id": "a677477b",
   "metadata": {},
   "outputs": [],
   "source": [
    "# Preallocate memory.\n",
    "box_poses = {}\n",
    "for name in names:\n",
    "    box_poses[name] = np.zeros(len(data), dtype=pose_dtype)"
   ]
  },
  {
   "cell_type": "code",
   "execution_count": null,
   "id": "60bb5fb3",
   "metadata": {},
   "outputs": [],
   "source": [
    "# Convert JSON data to `pose_dtype` data.\n",
    "for n, tdata in enumerate(data):\n",
    "    t = stamp_to_time(tdata['header']['stamp'])\n",
    "    for single_pose in tdata['pose']:\n",
    "        name = single_pose['name']\n",
    "        if name in names:\n",
    "            box_poses[name][n]['t'] = t\n",
    "            box_poses[name][n]['p'] = position_to_p(single_pose['position'])\n",
    "            box_poses[name][n]['q'] = orientation_to_q(single_pose['orientation'])\n",
    "\n",
    "# At this point, `box_poses` is a dictionary, with the box names as the keys, and an array of poses as each value.\n",
    "# The array of poses contains the motion of a single box and uses `pose_dtype` as dtype."
   ]
  },
  {
   "cell_type": "markdown",
   "id": "df61f683",
   "metadata": {},
   "source": [
    "---"
   ]
  },
  {
   "cell_type": "markdown",
   "id": "c94076d8",
   "metadata": {},
   "source": [
    "## Generate Box Motion from Scratch"
   ]
  },
  {
   "cell_type": "code",
   "execution_count": null,
   "id": "836345f5",
   "metadata": {},
   "outputs": [],
   "source": [
    "# Body spatial inertia, expressed in body frame.\n",
    "mass = 1\n",
    "inertia_body = 0.1 * np.eye(3)\n",
    "spatial_inertia_body = np.r_[\n",
    "    np.c_[mass * np.eye(3), np.zeros((3, 3))],\n",
    "    np.c_[np.zeros((3, 3)), inertia_body]]"
   ]
  },
  {
   "cell_type": "code",
   "execution_count": null,
   "id": "1b0135af",
   "metadata": {},
   "outputs": [],
   "source": [
    "# Added mass matrix, expressed in body frame.\n",
    "added_mass_body = np.zeros((6, 6))\n",
    "added_mass_body[0, 1] += 0.261666\n",
    "added_mass_body[1, 0] += 0.261666"
   ]
  },
  {
   "cell_type": "code",
   "execution_count": null,
   "id": "2fe925b3",
   "metadata": {},
   "outputs": [],
   "source": [
    "# Combined spatial_inertia.\n",
    "full_spatial_inertia_body = spatial_inertia_body + added_mass_body"
   ]
  },
  {
   "cell_type": "code",
   "execution_count": null,
   "id": "a7f9cf76",
   "metadata": {},
   "outputs": [],
   "source": [
    "# Force and torques applied throughout the motion, in the absolute reference frame.\n",
    "force = np.array([1, 0, 0])\n",
    "torque = np.zeros(3)"
   ]
  },
  {
   "cell_type": "code",
   "execution_count": null,
   "id": "6f49875f",
   "metadata": {},
   "outputs": [],
   "source": [
    "# Initial position, orientation, linear and angular velocities, of the body-fixed frame.\n",
    "p0 = np.array([0, 0, 0.5])\n",
    "q0 = qt.one\n",
    "v0 = np.zeros(3)\n",
    "w0 = np.zeros(3)"
   ]
  },
  {
   "cell_type": "code",
   "execution_count": null,
   "id": "73578639",
   "metadata": {},
   "outputs": [],
   "source": [
    "# Get timestamps from one of the boxes, they should be the same for all the boxes.\n",
    "ts = box_poses['box_xx']['t']"
   ]
  },
  {
   "cell_type": "code",
   "execution_count": null,
   "id": "82eac642",
   "metadata": {},
   "outputs": [],
   "source": [
    "def skew(v):\n",
    "    # Return the left cross-product matrix for vector `v`.\n",
    "    return np.array([\n",
    "        [0, -v[2], v[1]],\n",
    "        [v[2], 0, -v[0]],\n",
    "        [-v[1], v[0], 0]\n",
    "    ])\n",
    "\n",
    "def eom(pose, vels, forces):\n",
    "    # Equations of motion for the rigid body. The (body-fixed) spatial inertia is taken to be\n",
    "    # `spatial_inertia_body` expressed in the body frame at the initial instant of time.\n",
    "    # `spatial_inertia_body` must be invertible, no other assumptions are made (e.g. no assumptions about\n",
    "    # symmetry or positive-definiteness).\n",
    "    v, w = vels[:3], vels[3:]\n",
    "    R = qt.as_rotation_matrix(pose['q'])\n",
    "    big_R = sp.linalg.block_diag(R, R)\n",
    "    w_hat = skew(w)\n",
    "    big_w_hat = sp.linalg.block_diag(w_hat, w_hat)\n",
    "    \n",
    "    # Spatial inertia (and derivatives) in the absolute frame.\n",
    "    M = big_R @ full_spatial_inertia_body @ big_R.T\n",
    "    M_avg = 0.5 * (M + M.T)\n",
    "    M_avg_dot = big_w_hat @ M_avg - M_avg @ big_w_hat\n",
    "    M_avg_inv = np.linalg.inv(M_avg)\n",
    "    \n",
    "    M12 = M[:3, 3:]\n",
    "    M21 = M[3:, :3]\n",
    "    # Torque correction due to non block-diagonal terms.\n",
    "    torque_correction = 0.5 * (w_hat @ M21 - M21 @ w_hat) @ v + 0.5 * (w_hat @ M12.T - M12.T @ w_hat) @ v\n",
    "    f_star = np.r_[\n",
    "        forces[:3],\n",
    "        forces[3:] + torque_correction]\n",
    "    \n",
    "    accs = M_avg_inv @ (f_star - M_avg_dot @ vels)\n",
    "    \n",
    "    return accs"
   ]
  },
  {
   "cell_type": "code",
   "execution_count": null,
   "id": "70024397",
   "metadata": {},
   "outputs": [],
   "source": [
    "# Preallocate memory for the generated motion.\n",
    "generated_poses = np.zeros(len(ts), dtype=pose_dtype)\n",
    "vels = np.zeros((len(ts), 6))\n",
    "accs = np.zeros((len(ts) - 1, 6))"
   ]
  },
  {
   "cell_type": "code",
   "execution_count": null,
   "id": "ad9168c1",
   "metadata": {
    "scrolled": true
   },
   "outputs": [],
   "source": [
    "# Integrate motion from the starting conditions. Use Euler's method for velocity, and a quadratic integrator for\n",
    "# position/orientation. This is expected to be inaccurate, but should give an idea of how the motion looks like.\n",
    "generated_poses[0]['t'] = ts[0]\n",
    "generated_poses[0]['p'] = p0\n",
    "generated_poses[0]['q'] = q0\n",
    "vels[0, :] = np.r_[v0, w0]\n",
    "forces = np.r_[force, torque]\n",
    "for n in range(len(ts) - 1):\n",
    "    dt = ts[n + 1] - ts[n]\n",
    "    accs[n] = eom(generated_poses[n], vels[n, :], forces)\n",
    "    vels[n + 1] = vels[n] + accs[n] * dt\n",
    "    generated_poses[n + 1]['t'] = ts[n + 1]\n",
    "    generated_poses[n + 1]['p'] = (\n",
    "        generated_poses[n]['p'] +\n",
    "        vels[n, :3] * dt +\n",
    "        0.5 * accs[n, :3] * dt ** 2\n",
    "    )\n",
    "    generated_poses[n + 1]['q'] = (\n",
    "        qt.from_rotation_vector(\n",
    "            vels[n, 3:] * dt +\n",
    "            0.5 * accs[n, 3:] * dt ** 2\n",
    "        ) *\n",
    "        generated_poses[n]['q']\n",
    "    )\n",
    "\n",
    "# At this point, `generated_poses` contains the generated motion in the form of an array of `pose_dtype` dtype;\n",
    "# `vels` is an array with the generated linear and angular velocities as 6-vectors (in this order); and `accs`\n",
    "# contains the generated linear and angular accelerations as 6-vectors (in this order)."
   ]
  },
  {
   "cell_type": "markdown",
   "id": "33679fa7",
   "metadata": {},
   "source": [
    "---"
   ]
  },
  {
   "cell_type": "markdown",
   "id": "16081d19",
   "metadata": {},
   "source": [
    "## Compare Motions"
   ]
  },
  {
   "cell_type": "code",
   "execution_count": null,
   "id": "957fd1eb",
   "metadata": {},
   "outputs": [],
   "source": [
    "# Which box to compare the generated motion against.\n",
    "box_name = 'box_xy'"
   ]
  },
  {
   "cell_type": "code",
   "execution_count": null,
   "id": "373c0870",
   "metadata": {},
   "outputs": [],
   "source": [
    "fig = plt.figure()\n",
    "\n",
    "plt.subplot(3, 1, 1)\n",
    "plt.plot(box_poses[box_name]['t'], box_poses[box_name]['p'][:, 0])\n",
    "plt.plot(generated_poses['t'], generated_poses['p'][:, 0])\n",
    "plt.grid()\n",
    "plt.ylabel('x')\n",
    "\n",
    "plt.subplot(3, 1, 2)\n",
    "plt.plot(box_poses[box_name]['t'], box_poses[box_name]['p'][:, 1])\n",
    "plt.plot(generated_poses['t'], generated_poses['p'][:, 1])\n",
    "plt.grid()\n",
    "plt.ylabel('y')\n",
    "\n",
    "plt.subplot(3, 1, 3)\n",
    "plt.plot(box_poses[box_name]['t'], box_poses[box_name]['p'][:, 2])\n",
    "plt.plot(generated_poses['t'], generated_poses['p'][:, 2])\n",
    "plt.grid()\n",
    "plt.xlabel('time')\n",
    "plt.ylabel('z')\n",
    "\n",
    "fig.suptitle('Position')\n",
    "plt.figlegend(['Gazebo', 'Notebook'])"
   ]
  },
  {
   "cell_type": "code",
   "execution_count": null,
   "id": "f27bf7c1",
   "metadata": {},
   "outputs": [],
   "source": [
    "fig = plt.figure()\n",
    "\n",
    "plt.subplot(2, 2, 1)\n",
    "plt.plot(box_poses[box_name]['t'], qt.as_float_array(box_poses[box_name]['q'])[:, 0])\n",
    "plt.plot(generated_poses['t'], qt.as_float_array(generated_poses['q'])[:, 0])\n",
    "plt.grid()\n",
    "plt.ylabel('w')\n",
    "\n",
    "plt.subplot(2, 2, 2)\n",
    "plt.plot(box_poses[box_name]['t'], qt.as_float_array(box_poses[box_name]['q'])[:, 1])\n",
    "plt.plot(generated_poses['t'], qt.as_float_array(generated_poses['q'])[:, 1])\n",
    "plt.grid()\n",
    "plt.ylabel('x')\n",
    "\n",
    "plt.subplot(2, 2, 3)\n",
    "plt.plot(box_poses[box_name]['t'], qt.as_float_array(box_poses[box_name]['q'])[:, 2])\n",
    "plt.plot(generated_poses['t'], qt.as_float_array(generated_poses['q'])[:, 2])\n",
    "plt.grid()\n",
    "plt.xlabel('time')\n",
    "plt.ylabel('y')\n",
    "\n",
    "plt.subplot(2, 2, 4)\n",
    "plt.plot(box_poses[box_name]['t'], qt.as_float_array(box_poses[box_name]['q'])[:, 3])\n",
    "plt.plot(generated_poses['t'], qt.as_float_array(generated_poses['q'])[:, 3])\n",
    "plt.grid()\n",
    "plt.xlabel('time')\n",
    "plt.ylabel('z')\n",
    "\n",
    "fig.suptitle('Quaternion')\n",
    "plt.figlegend(['Gazebo', 'Notebook'])"
   ]
  },
  {
   "cell_type": "code",
   "execution_count": null,
   "id": "791c8ed7",
   "metadata": {},
   "outputs": [],
   "source": [
    "# Compute box velocities.\n",
    "box_vels = np.zeros((box_poses[box_name].shape[0] - 1, 6))\n",
    "for n in range(box_poses[box_name].shape[0] - 1):\n",
    "    q = box_poses[box_name]['q'][n]\n",
    "    dt = box_poses[box_name]['t'][n + 1] - box_poses[box_name]['t'][n]\n",
    "    dp = box_poses[box_name]['p'][n + 1] - box_poses[box_name]['p'][n]\n",
    "    dq = box_poses[box_name]['q'][n + 1] - q\n",
    "    v = dp / dt\n",
    "    w = qt.as_float_array(2 * (dq / dt) * q.conj())[1:]\n",
    "    box_vels[n, 0:3] = v\n",
    "    box_vels[n, 3:6] = w"
   ]
  },
  {
   "cell_type": "code",
   "execution_count": null,
   "id": "70e5570c",
   "metadata": {},
   "outputs": [],
   "source": [
    "fig = plt.figure()\n",
    "\n",
    "plt.subplot(3, 1, 1)\n",
    "plt.plot(box_poses[box_name]['t'][:-1], box_vels[:, 0])\n",
    "plt.plot(generated_poses['t'], vels[:, 0])\n",
    "plt.grid()\n",
    "plt.ylabel('x')\n",
    "\n",
    "plt.subplot(3, 1, 2)\n",
    "plt.plot(box_poses[box_name]['t'][:-1], box_vels[:, 1])\n",
    "plt.plot(generated_poses['t'], vels[:, 1])\n",
    "plt.grid()\n",
    "plt.ylabel('y')\n",
    "\n",
    "plt.subplot(3, 1, 3)\n",
    "plt.plot(box_poses[box_name]['t'][:-1], box_vels[:, 2])\n",
    "plt.plot(generated_poses['t'], vels[:, 2])\n",
    "plt.grid()\n",
    "plt.xlabel('time')\n",
    "plt.ylabel('z')\n",
    "\n",
    "fig.suptitle('Linear Velocity')\n",
    "plt.figlegend(['Gazebo', 'Notebook'])"
   ]
  },
  {
   "cell_type": "code",
   "execution_count": null,
   "id": "71dc1e1b",
   "metadata": {},
   "outputs": [],
   "source": [
    "fig = plt.figure()\n",
    "\n",
    "plt.subplot(3, 1, 1)\n",
    "plt.plot(box_poses[box_name]['t'][:-1], box_vels[:, 3])\n",
    "plt.plot(generated_poses['t'], vels[:, 3])\n",
    "plt.grid()\n",
    "plt.ylabel('x')\n",
    "\n",
    "plt.subplot(3, 1, 2)\n",
    "plt.plot(box_poses[box_name]['t'][:-1], box_vels[:, 4])\n",
    "plt.plot(generated_poses['t'], vels[:, 4])\n",
    "plt.grid()\n",
    "plt.ylabel('y')\n",
    "\n",
    "plt.subplot(3, 1, 3)\n",
    "plt.plot(box_poses[box_name]['t'][:-1], box_vels[:, 5])\n",
    "plt.plot(generated_poses['t'], vels[:, 5])\n",
    "plt.grid()\n",
    "plt.xlabel('time')\n",
    "plt.ylabel('z')\n",
    "\n",
    "fig.suptitle('Angular Velocity')\n",
    "plt.figlegend(['Gazebo', 'Notebook'])"
   ]
  },
  {
   "cell_type": "code",
   "execution_count": null,
   "id": "c8574beb",
   "metadata": {},
   "outputs": [],
   "source": [
    "# Compute box accelerations.\n",
    "box_accs = np.zeros((box_poses[box_name].shape[0] - 2, 6))\n",
    "for n in range(box_poses[box_name].shape[0] - 2):\n",
    "    dt = box_poses[box_name]['t'][n + 1] - box_poses[box_name]['t'][n]\n",
    "    box_accs[n] = (box_vels[n + 1] - box_vels[n]) / dt"
   ]
  },
  {
   "cell_type": "code",
   "execution_count": null,
   "id": "a8615251",
   "metadata": {},
   "outputs": [],
   "source": [
    "fig = plt.figure()\n",
    "\n",
    "plt.subplot(3, 1, 1)\n",
    "plt.plot(box_poses[box_name]['t'][:-2], box_accs[:, 0])\n",
    "plt.plot(generated_poses['t'][:-1], accs[:, 0])\n",
    "plt.grid()\n",
    "plt.ylabel('x')\n",
    "\n",
    "plt.subplot(3, 1, 2)\n",
    "plt.plot(box_poses[box_name]['t'][:-2], box_accs[:, 1])\n",
    "plt.plot(generated_poses['t'][:-1], accs[:, 1])\n",
    "plt.grid()\n",
    "plt.ylabel('y')\n",
    "\n",
    "plt.subplot(3, 1, 3)\n",
    "plt.plot(box_poses[box_name]['t'][:-2], box_accs[:, 2])\n",
    "plt.plot(generated_poses['t'][:-1], accs[:, 2])\n",
    "plt.grid()\n",
    "plt.xlabel('time')\n",
    "plt.ylabel('z')\n",
    "\n",
    "fig.suptitle('Linear Acceleration')\n",
    "plt.figlegend(['Gazebo', 'Notebook'])"
   ]
  },
  {
   "cell_type": "code",
   "execution_count": null,
   "id": "da5fec26",
   "metadata": {},
   "outputs": [],
   "source": [
    "fig = plt.figure()\n",
    "\n",
    "plt.subplot(3, 1, 1)\n",
    "plt.plot(box_poses[box_name]['t'][:-2], box_accs[:, 3])\n",
    "plt.plot(generated_poses['t'][:-1], accs[:, 3])\n",
    "plt.grid()\n",
    "plt.ylabel('x')\n",
    "\n",
    "plt.subplot(3, 1, 2)\n",
    "plt.plot(box_poses[box_name]['t'][:-2], box_accs[:, 4])\n",
    "plt.plot(generated_poses['t'][:-1], accs[:, 4])\n",
    "plt.grid()\n",
    "plt.ylabel('y')\n",
    "\n",
    "plt.subplot(3, 1, 3)\n",
    "plt.plot(box_poses[box_name]['t'][:-2], box_accs[:, 5])\n",
    "plt.plot(generated_poses['t'][:-1], accs[:, 5])\n",
    "plt.grid()\n",
    "plt.xlabel('time')\n",
    "plt.ylabel('z')\n",
    "\n",
    "fig.suptitle('Angular Acceleration')\n",
    "plt.figlegend(['Gazebo', 'Notebook'])"
   ]
  },
  {
   "cell_type": "code",
   "execution_count": null,
   "id": "935f3939",
   "metadata": {},
   "outputs": [],
   "source": [
    "def compute_momenta(pose, vels):\n",
    "    # Compute linear and angular momenta. Return as a 6-dimensional array.\n",
    "    R = qt.as_rotation_matrix(pose['q'])\n",
    "    big_R = sp.linalg.block_diag(R, R)\n",
    "    M = big_R @ full_spatial_inertia_body @ big_R.T\n",
    "    return M @ vels"
   ]
  },
  {
   "cell_type": "code",
   "execution_count": null,
   "id": "b97d01a5",
   "metadata": {},
   "outputs": [],
   "source": [
    "def compute_kinetic_energy(pose, vels):\n",
    "    # Compute kinetic energy.\n",
    "    R = qt.as_rotation_matrix(pose['q'])\n",
    "    big_R = sp.linalg.block_diag(R, R)\n",
    "    M = big_R @ full_spatial_inertia_body @ big_R.T\n",
    "    return 0.5 * vels @ M @ vels"
   ]
  },
  {
   "cell_type": "code",
   "execution_count": null,
   "id": "c57f71c8",
   "metadata": {},
   "outputs": [],
   "source": [
    "# Compute linear/angular momentum and kinetic energy. Assume that the spatial inertia matrix used by Gazebo is the\n",
    "# same one used in this notebook.\n",
    "box_momenta = np.zeros((ts.shape[0] - 1, 6))\n",
    "box_energy = np.zeros(ts.shape[0] - 1)\n",
    "momenta = np.zeros((ts.shape[0], 6))\n",
    "energy = np.zeros(ts.shape[0])\n",
    "for n in range(ts.shape[0] - 1):\n",
    "    box_momenta[n, :] = compute_momenta(box_poses[box_name][n], box_vels[n, :])\n",
    "    box_energy[n] = compute_kinetic_energy(box_poses[box_name][n], box_vels[n, :])\n",
    "for n in range(ts.shape[0]):\n",
    "    momenta[n, :] = compute_momenta(generated_poses[n], vels[n, :])\n",
    "    energy[n] = compute_kinetic_energy(generated_poses[n], vels[n, :])"
   ]
  },
  {
   "cell_type": "code",
   "execution_count": null,
   "id": "6817f092",
   "metadata": {},
   "outputs": [],
   "source": [
    "fig = plt.figure()\n",
    "\n",
    "plt.subplot(3, 1, 1)\n",
    "plt.plot(box_poses[box_name]['t'][:-1], box_momenta[:, 0])\n",
    "plt.plot(generated_poses['t'], momenta[:, 0])\n",
    "plt.grid()\n",
    "plt.ylabel('x')\n",
    "\n",
    "plt.subplot(3, 1, 2)\n",
    "plt.plot(box_poses[box_name]['t'][:-1], box_momenta[:, 1])\n",
    "plt.plot(generated_poses['t'], momenta[:, 1])\n",
    "plt.grid()\n",
    "plt.ylabel('y')\n",
    "\n",
    "plt.subplot(3, 1, 3)\n",
    "plt.plot(box_poses[box_name]['t'][:-1], box_momenta[:, 2])\n",
    "plt.plot(generated_poses['t'], momenta[:, 2])\n",
    "plt.grid()\n",
    "plt.xlabel('time')\n",
    "plt.ylabel('z')\n",
    "\n",
    "fig.suptitle('Linear Momentum')\n",
    "plt.figlegend(['Gazebo', 'Notebook'])"
   ]
  },
  {
   "cell_type": "code",
   "execution_count": null,
   "id": "f05efad0",
   "metadata": {},
   "outputs": [],
   "source": [
    "fig = plt.figure()\n",
    "\n",
    "plt.subplot(3, 1, 1)\n",
    "plt.plot(box_poses[box_name]['t'][:-1], box_momenta[:, 3])\n",
    "plt.plot(generated_poses['t'], momenta[:, 3])\n",
    "plt.grid()\n",
    "plt.ylabel('x')\n",
    "\n",
    "plt.subplot(3, 1, 2)\n",
    "plt.plot(box_poses[box_name]['t'][:-1], box_momenta[:, 4])\n",
    "plt.plot(generated_poses['t'], momenta[:, 4])\n",
    "plt.grid()\n",
    "plt.ylabel('y')\n",
    "\n",
    "plt.subplot(3, 1, 3)\n",
    "plt.plot(box_poses[box_name]['t'][:-1], box_momenta[:, 5])\n",
    "plt.plot(generated_poses['t'], momenta[:, 5])\n",
    "plt.grid()\n",
    "plt.xlabel('time')\n",
    "plt.ylabel('z')\n",
    "\n",
    "fig.suptitle('Angular Momentum')\n",
    "plt.figlegend(['Gazebo', 'Notebook'])"
   ]
  },
  {
   "cell_type": "code",
   "execution_count": null,
   "id": "0f689fbf",
   "metadata": {},
   "outputs": [],
   "source": [
    "fig = plt.figure()\n",
    "\n",
    "plt.plot(box_poses[box_name]['t'][:-1], box_energy)\n",
    "plt.plot(generated_poses['t'], energy)\n",
    "plt.grid()\n",
    "plt.xlabel('time')\n",
    "plt.ylabel('T')\n",
    "\n",
    "plt.title('Kinetic Energy')\n",
    "plt.legend(['Gazebo', 'Notebook'])"
   ]
  }
 ],
 "metadata": {
  "kernelspec": {
   "display_name": "Python 3 (ipykernel)",
   "language": "python",
   "name": "python3"
  },
  "language_info": {
   "codemirror_mode": {
    "name": "ipython",
    "version": 3
   },
   "file_extension": ".py",
   "mimetype": "text/x-python",
   "name": "python",
   "nbconvert_exporter": "python",
   "pygments_lexer": "ipython3",
   "version": "3.10.4"
  }
 },
 "nbformat": 4,
 "nbformat_minor": 5
}
